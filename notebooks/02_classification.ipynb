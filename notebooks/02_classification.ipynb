{
 "cells": [
  {
   "metadata": {},
   "cell_type": "markdown",
   "source": "",
   "id": "c8bc15b65dd95ac6"
  },
  {
   "metadata": {},
   "cell_type": "markdown",
   "source": [
    "### Goal\n",
    "The goal of this notebook is to classify examples into different categories, specifically identifying spam vs. non-spam emails using a generated dataset.\n",
    "\n",
    "### Dataset\n",
    "Instead of using a pre-existing dataset, we generate a synthetic dataset of ham and spam emails. Each email is saved as an individual text file in respective `ham` and `spam` directories. This approach ensures flexibility and control over the dataset.\n",
    "\n",
    "### Generate Dataset\n",
    "Before starting, we generate the spam and ham datasets."
   ],
   "id": "4d00b321d874cbda"
  },
  {
   "metadata": {
    "ExecuteTime": {
     "end_time": "2025-01-22T09:57:04.958784Z",
     "start_time": "2025-01-22T09:57:04.934738Z"
    }
   },
   "cell_type": "code",
   "source": [
    "import os\n",
    "import random\n",
    "\n",
    "# Define the folder structure\n",
    "base_path = \"../data\"\n",
    "ham_path = os.path.join(base_path, \"ham\")\n",
    "spam_path = os.path.join(base_path, \"spam\")\n",
    "\n",
    "# Create directories if they don't exist\n",
    "os.makedirs(ham_path, exist_ok=True)\n",
    "os.makedirs(spam_path, exist_ok=True)\n",
    "\n",
    "# Define templates for spam and ham messages\n",
    "spam_templates = [\n",
    "    \"Congratulations! You've won ${} in cash rewards. Claim now!\",\n",
    "    \"Limited offer: Get {}% discount on all items. Expires soon.\",\n",
    "    \"Alert: Your account {} has been compromised. Secure it immediately.\",\n",
    "    \"Win a free {} by signing up today. Don't miss out!\",\n",
    "    \"Earn ${}/week working remotely. Apply now!\",\n",
    "    \"Exclusive deal: Get {}% cashback on your next purchase.\",\n",
    "    \"You are the lucky winner of a new {}. Redeem your prize!\",\n",
    "    \"Urgent: Your subscription will expire in {} days. Renew now!\",\n",
    "    \"Flash sale: Up to {}% off on top brands. Shop now!\",\n",
    "    \"Act fast: {} bonus points added to your account. Redeem today!\",\n",
    "]\n",
    "\n",
    "ham_templates = [\n",
    "    \"Meeting rescheduled to {} PM tomorrow. Let me know if you can join.\",\n",
    "    \"Reminder: Submit your report by {} PM today.\",\n",
    "    \"Don't forget about the team lunch at {} PM on Friday.\",\n",
    "    \"Can we discuss the project updates at {} PM next Monday?\",\n",
    "    \"Please review the attached document and share your feedback by {} PM.\",\n",
    "    \"Here is the link to the repository. Please update it before {} PM.\",\n",
    "    \"Looking forward to our call at {} PM. Let me know if it works for you.\",\n",
    "    \"Can we finalize the budget discussion at {} PM on Thursday?\",\n",
    "    \"Reminder: Complete the assigned tasks before {} PM.\",\n",
    "    \"Join us for the workshop at {} PM this weekend. Let me know if you're interested.\",\n",
    "]\n",
    "\n",
    "# Generate unique messages with specific parameters\n",
    "def generate_messages(templates, num_messages, value_range):\n",
    "    messages = []\n",
    "    for i in range(num_messages):\n",
    "        template = templates[i % len(templates)]\n",
    "        filled_message = template.format(random.randint(*value_range))\n",
    "        messages.append(filled_message)\n",
    "    return messages\n",
    "\n",
    "# Generate 100 unique messages for spam and ham\n",
    "spam_emails = generate_messages(spam_templates, 100, (100, 5000))\n",
    "ham_emails = generate_messages(ham_templates, 100, (1, 12))\n",
    "\n",
    "# Save ham emails as individual files\n",
    "for i, email in enumerate(ham_emails, 1):\n",
    "    with open(f\"{ham_path}/ham{i}.txt\", \"w\", encoding=\"utf-8\") as file:\n",
    "        file.write(email)\n",
    "\n",
    "# Save spam emails as individual files\n",
    "for i, email in enumerate(spam_emails, 1):\n",
    "    with open(f\"{spam_path}/spam{i}.txt\", \"w\", encoding=\"utf-8\") as file:\n",
    "        file.write(email)\n",
    "\n",
    "print(\"Data generation completed. Ham and spam emails saved in respective folders.\")\n"
   ],
   "id": "a4bc260fb2152317",
   "outputs": [
    {
     "name": "stdout",
     "output_type": "stream",
     "text": [
      "Data generation completed. Ham and spam emails saved in respective folders.\n"
     ]
    }
   ],
   "execution_count": 7
  }
 ],
 "metadata": {
  "kernelspec": {
   "display_name": "Python 3",
   "language": "python",
   "name": "python3"
  },
  "language_info": {
   "codemirror_mode": {
    "name": "ipython",
    "version": 2
   },
   "file_extension": ".py",
   "mimetype": "text/x-python",
   "name": "python",
   "nbconvert_exporter": "python",
   "pygments_lexer": "ipython2",
   "version": "2.7.6"
  }
 },
 "nbformat": 4,
 "nbformat_minor": 5
}
